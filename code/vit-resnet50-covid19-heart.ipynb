{
 "cells": [
  {
   "cell_type": "code",
   "execution_count": null,
   "metadata": {
    "tags": []
   },
   "outputs": [],
   "source": [
    "!pip install transformers"
   ]
  },
  {
   "cell_type": "code",
   "execution_count": 1,
   "metadata": {
    "_cell_guid": "b1076dfc-b9ad-4769-8c92-a6c4dae69d19",
    "_uuid": "8f2839f25d086af736a60e9eeb907d3b93b6e0e5",
    "tags": []
   },
   "outputs": [],
   "source": [
    "import os\n",
    "# Torch\n",
    "import torch\n",
    "import torch.nn as nn\n",
    "import torch.optim as optim\n",
    "from torch.utils.data import DataLoader,WeightedRandomSampler, random_split, SubsetRandomSampler, Subset\n",
    "from sklearn.utils.class_weight import compute_class_weight\n",
    "# Torch Vision\n",
    "import torchvision.transforms as transforms\n",
    "import torchvision.models as models\n",
    "import torchvision.datasets as datasets\n",
    "# Transformers\n",
    "from transformers import ViTImageProcessor, ViTForImageClassification\n",
    "# Utils\n",
    "from tqdm import tqdm\n",
    "import numpy as np\n",
    "from typing import List\n",
    "# Train Test Evaluate\n",
    "from sklearn.model_selection import train_test_split\n",
    "from sklearn.metrics import accuracy_score, f1_score, confusion_matrix, roc_curve, auc, roc_auc_score, precision_score, recall_score\n",
    "# Visualization\n",
    "from matplotlib import pyplot as plt\n",
    "import seaborn as sns\n",
    "from sklearn.model_selection import train_test_split\n",
    "from sklearn.preprocessing import label_binarize\n",
    "from sklearn.decomposition import PCA\n",
    "import torch.nn.functional as F"
   ]
  },
  {
   "cell_type": "markdown",
   "metadata": {},
   "source": [
    "### Preparing The Models"
   ]
  },
  {
   "cell_type": "code",
   "execution_count": 2,
   "metadata": {
    "tags": []
   },
   "outputs": [],
   "source": [
    "g_vit_patch = 'google/vit-base-patch16-224'\n",
    "base_path = './data' # For training Data\n",
    "base_output_path = './output' # For Storing weights and all\n",
    "# Set device (GPU if available)\n",
    "device = torch.device(\"cuda\" if torch.cuda.is_available() else \"cpu\")\n",
    "num_epochs = 15\n",
    "NUM_WORKERS = 4"
   ]
  },
  {
   "cell_type": "code",
   "execution_count": 13,
   "metadata": {
    "scrolled": true,
    "tags": []
   },
   "outputs": [],
   "source": [
    "# CNN Model with Explicit Device Handling\n",
    "class CNNModel(nn.Module):\n",
    "    def __init__(self, num_classes, device, cnn_model=models.resnet50(weights=models.ResNet50_Weights.DEFAULT)):\n",
    "        super(CNNModel, self).__init__()\n",
    "        self.cnn = cnn_model\n",
    "        num_ftrs = self.cnn.fc.in_features\n",
    "        self.cnn.fc = nn.Linear(num_ftrs, num_classes)\n",
    "        self.device = device\n",
    "\n",
    "    def forward(self, x):\n",
    "        # Ensure input is on the correct device\n",
    "        x = x.to(self.device)\n",
    "        return self.cnn(x)\n",
    "\n",
    "# ViT Model with Explicit Device Handling\n",
    "class ViTModel(nn.Module):\n",
    "    def __init__(self, num_classes, device, vit_model_name=g_vit_patch):\n",
    "        super(ViTModel, self).__init__()\n",
    "        self.feature_extractor = ViTImageProcessor.from_pretrained(vit_model_name,do_rescale=False)\n",
    "        self.model = ViTForImageClassification.from_pretrained(\n",
    "            vit_model_name,\n",
    "            num_labels=num_classes,\n",
    "            ignore_mismatched_sizes=True,\n",
    "        )\n",
    "        self.device = device\n",
    "\n",
    "    def forward(self, x):\n",
    "        # Ensure input is on the correct device\n",
    "        x = x.to(self.device)  # Move to the specified device\n",
    "        # Prepare inputs for ViT model\n",
    "        feature_input = self.feature_extractor(x, return_tensors=\"pt\").to(self.device)\n",
    "        logits = self.model(**feature_input).logits\n",
    "        return logits\n",
    "\n",
    "\n",
    "class AttentionLayer(nn.Module):\n",
    "    def __init__(self, input_dim):\n",
    "        super(AttentionLayer, self).__init__()\n",
    "        self.attention = nn.Linear(input_dim, input_dim)\n",
    "    \n",
    "    def forward(self, x):\n",
    "        attention_weights = F.softmax(self.attention(x), dim=1)\n",
    "        return x * attention_weights\n",
    "\n",
    "class EnsembleModel(nn.Module):\n",
    "    def __init__(self, num_classes, cnn_model, vit_model, device):\n",
    "        super().__init__()\n",
    "        self.cnn_model = cnn_model\n",
    "        self.vit_model = vit_model\n",
    "        self.fc = nn.Linear(num_classes * 2, num_classes)  # Final linear layer\n",
    "        self.device = device\n",
    "\n",
    "    def forward(self, x):\n",
    "        # Ensure input is on the correct device\n",
    "        x = x.to(self.device)\n",
    "        \n",
    "        # Forward through CNN and ViT\n",
    "        cnn_output = self.cnn_model(x)\n",
    "        vit_output = self.vit_model(x)\n",
    "        \n",
    "        # Ensure outputs are the same shape\n",
    "        if cnn_output.shape != vit_output.shape:\n",
    "            raise ValueError(f\"Shape mismatch: CNN output shape {cnn_output.shape}, ViT output shape {vit_output.shape}\")\n",
    "        \n",
    "        # Combine outputs\n",
    "        combined_output = torch.cat((cnn_output, vit_output), dim=1)\n",
    "        \n",
    "        # Apply dropout for regularization\n",
    "        combined_output = F.dropout(combined_output, p=0.5)\n",
    "        \n",
    "        # Final linear output\n",
    "        return self.fc(combined_output)\n",
    "\n",
    "    def eval(self, *args, **kwargs):\n",
    "        super().eval(*args, **kwargs)  # Call eval() on the parent class\n",
    "        \n",
    "        # Call eval() on the underlying models\n",
    "        self.cnn_model.eval(*args, **kwargs)\n",
    "        self.vit_model.eval(*args, **kwargs)\n",
    "        \n",
    "    def train(self, *args, **kwargs):\n",
    "        super().train(*args, **kwargs)  # Call train() on the parent class\n",
    "        \n",
    "        # Call train() on the underlying models\n",
    "        self.cnn_model.train(*args, **kwargs)\n",
    "        self.vit_model.train(*args, **kwargs)\n",
    "\n"
   ]
  },
  {
   "cell_type": "markdown",
   "metadata": {},
   "source": [
    "### Data Preparation"
   ]
  },
  {
   "cell_type": "code",
   "execution_count": 4,
   "metadata": {
    "tags": []
   },
   "outputs": [],
   "source": [
    "\n",
    "def preprocess(base_path: str, device: torch.device):\n",
    "    # Define transformations\n",
    "    train_transform = transforms.Compose([\n",
    "        transforms.Resize((224, 224)),\n",
    "        # Add more transformations if needed\n",
    "        transforms.ToTensor(),\n",
    "    ])\n",
    "\n",
    "    print(\"Loading Datasets...\")\n",
    "    # Load datasets\n",
    "    full_dataset = datasets.ImageFolder(\n",
    "        root=base_path,\n",
    "        transform=train_transform\n",
    "    )\n",
    "\n",
    "    # Calculate the train-test split\n",
    "    train_size = int(0.8 * len(full_dataset))\n",
    "    test_size = len(full_dataset) - train_size\n",
    "\n",
    "    # Split the dataset into train and test sets\n",
    "    train_dataset, test_dataset = random_split(full_dataset, [train_size, test_size])\n",
    "\n",
    "    # Create DataLoader for train and test sets\n",
    "    train_loader = DataLoader(train_dataset, num_workers=4, batch_size=80, shuffle=True, pin_memory=True)\n",
    "    test_loader = DataLoader(test_dataset, num_workers=4, batch_size=80, shuffle=False, pin_memory=True)\n",
    "\n",
    "    print(\"All Done...\")\n",
    "    \n",
    "    return train_loader, test_loader"
   ]
  },
  {
   "cell_type": "code",
   "execution_count": 5,
   "metadata": {
    "tags": []
   },
   "outputs": [
    {
     "name": "stdout",
     "output_type": "stream",
     "text": [
      "Loading Datasets...\n",
      "All Done...\n"
     ]
    }
   ],
   "source": [
    "# Define the folder where your ECG image data is stored\n",
    "data_folder = os.path.join(base_path, 'image-data-cardiac-process')\n",
    "\n",
    "train_loader, test_loader = preprocess(data_folder, device)"
   ]
  },
  {
   "cell_type": "code",
   "execution_count": 6,
   "metadata": {
    "tags": []
   },
   "outputs": [],
   "source": [
    "num_classes = len(train_loader.dataset.dataset.classes)"
   ]
  },
  {
   "cell_type": "markdown",
   "metadata": {},
   "source": [
    "\n",
    "### Training Ensemble Model"
   ]
  },
  {
   "cell_type": "code",
   "execution_count": 7,
   "metadata": {
    "tags": []
   },
   "outputs": [],
   "source": [
    "class EpochEvaluator:\n",
    "    def __init__(self, total_data_count: int, curr_epoch: int, total_epochs: int):\n",
    "        self.running_loss = 0.0\n",
    "        self.correct_preds = 0\n",
    "        self.total_preds = 0\n",
    "        self.total_data_count = total_data_count\n",
    "        self.curr_epoch = curr_epoch\n",
    "        self.total_epochs = total_epochs\n",
    "\n",
    "    def update_loss(self, loss: float):\n",
    "        self.running_loss += loss\n",
    "        return self\n",
    "\n",
    "    def update_preds(self, correct_preds: int, total_preds: int):\n",
    "        self.correct_preds += correct_preds\n",
    "        self.total_preds += total_preds\n",
    "        return self\n",
    "\n",
    "    def metrics(self):\n",
    "        epoch_loss = self.running_loss / self.total_data_count\n",
    "        epoch_accuracy = self.correct_preds / self.total_preds * 100\n",
    "        return epoch_loss, epoch_accuracy\n",
    "\n",
    "    def print_metrics(self):\n",
    "        epoch_loss, epoch_accuracy = self.metrics()\n",
    "        print(f'Epoch [{self.curr_epoch + 1}/{self.total_epochs}], '\n",
    "              f'Training Loss: {epoch_loss:.4f}, '\n",
    "              f'Training Accuracy: {epoch_accuracy:.2f}%')\n",
    "\n",
    "\n",
    "class TrainEvaluator:\n",
    "    def __init__(self):\n",
    "        self.epochs = []\n",
    "\n",
    "    def add(self, epoch: EpochEvaluator):\n",
    "        self.epochs.append(epoch)\n",
    "\n",
    "    def plot_graph(self):\n",
    "        epoch_nums = [e.curr_epoch + 1 for e in self.epochs]\n",
    "        losses = [e.metrics()[0] for e in self.epochs]\n",
    "        accuracies = [e.metrics()[1] for e in self.epochs]\n",
    "\n",
    "        plt.figure(figsize=(12, 6))\n",
    "\n",
    "        plt.subplot(1, 2, 1)\n",
    "        plt.plot(epoch_nums, losses, 'o-', label='Training Loss')\n",
    "        plt.xlabel('Epoch')\n",
    "        plt.ylabel('Loss')\n",
    "        plt.title('Training Loss vs Epoch')\n",
    "        plt.legend()\n",
    "\n",
    "        plt.subplot(1, 2, 2)\n",
    "        plt.plot(epoch_nums, accuracies, 'o-', label='Training Accuracy')\n",
    "        plt.xlabel('Epoch')\n",
    "        plt.ylabel('Accuracy (%)')\n",
    "        plt.title('Training Accuracy vs Epoch')\n",
    "        plt.legend()\n",
    "\n",
    "        plt.tight_layout()\n",
    "        plt.show()"
   ]
  },
  {
   "cell_type": "code",
   "execution_count": 8,
   "metadata": {
    "tags": []
   },
   "outputs": [],
   "source": [
    "# Define loss function and optimizer on the same device\n",
    "def train_model(model, train_loader, num_epochs, learning_rate):\n",
    "    train_eval = TrainEvaluator()\n",
    "    \n",
    "    criterion = nn.CrossEntropyLoss().to(device)\n",
    "    optimizer = optim.Adam(model.parameters(), lr=learning_rate)\n",
    "\n",
    "    total_train = len(train_loader)\n",
    "    print(f\"{num_epochs=} {total_train=}\")\n",
    "    with tqdm(total=num_epochs * total_train) as pbar:\n",
    "        for epoch in tqdm(range(num_epochs), position=0, leave=True):\n",
    "            model.train()  # Set model to training mode\n",
    "            epoch_eval = EpochEvaluator(total_train, epoch, num_epochs)\n",
    "            # Iterate through training data\n",
    "            for inputs, labels in tqdm(train_loader,total=total_train, position=0, leave=True):\n",
    "                inputs,labels = inputs.to(device), labels.to(device)\n",
    "                optimizer.zero_grad()  # Reset gradients\n",
    "                outputs = model(inputs)  # Forward pass\n",
    "\n",
    "                loss = criterion(outputs, labels)  # Calculate loss\n",
    "                loss.backward()  # Backpropagation\n",
    "                optimizer.step()  # Update model parameters\n",
    "                pbar.update(1)\n",
    "\n",
    "                _, predicted = outputs.max(1)\n",
    "                epoch_eval.update_loss(\n",
    "                    loss.item()\n",
    "                ).update_preds(\n",
    "                    (predicted == labels).sum().item(),labels.size(0)\n",
    "                )\n",
    "            epoch_eval.print_metrics()\n",
    "            train_eval.add(epoch_eval)\n",
    "    return train_eval\n",
    "            \n",
    "def test_model(model, test_loader):\n",
    "    # Evaluate the model to get accuracy, F1 score, and ROC AUC\n",
    "    model.eval()  # Set to evaluation mode\n",
    "    # Initialize lists to store predictions and probabilities\n",
    "    y_true = []\n",
    "    y_pred = []\n",
    "    y_proba = []\n",
    "\n",
    "    total_test = len(test_loader)\n",
    "\n",
    "    # Collect predictions and ground truth\n",
    "    with torch.no_grad():        \n",
    "        # Iterate through test data\n",
    "        for inputs, labels in tqdm(test_loader, total=total_test):\n",
    "            inputs,labels = inputs.to(device), labels.to(device)\n",
    "            outputs = model(inputs)  # Forward pass\n",
    "            _, predicted = torch.max(outputs, 1)  # Get predicted class\n",
    "            probs = torch.softmax(outputs, dim=1)\n",
    "\n",
    "            # Extend lists with values from current batch\n",
    "            y_true.extend(labels.cpu().numpy())\n",
    "            y_pred.extend(predicted.cpu().numpy())\n",
    "            y_proba.extend(probs.cpu().numpy())  # Get probabilities for ROC AUC\n",
    "\n",
    "    # Reshape y_proba into a 2D array\n",
    "    y_proba = np.array(y_proba)\n",
    "    return y_true, y_pred, y_proba"
   ]
  },
  {
   "cell_type": "code",
   "execution_count": 9,
   "metadata": {
    "tags": []
   },
   "outputs": [],
   "source": [
    "# Save the trained models to disk\n",
    "def save_models(base_path:str, *models):\n",
    "    if not os.path.exists(base_path):\n",
    "        os.makedirs(base_path)\n",
    "    # Save models to disk\n",
    "    for model in models:\n",
    "        torch.save(model.state_dict(), os.path.join(base_path, model.__class__.__name__))\n",
    "    print(\"Models saved successfully!\")\n",
    "    \n",
    "\n",
    "\n",
    "def load_model_with_weights_if_exists(model, base_path:str):\n",
    "    model_name = model.__class__.__name__\n",
    "    model_path = os.path.join(base_path, model_name)\n",
    "    if os.path.exists(model_path):\n",
    "        model.load_state_dict(torch.load(model_path))\n",
    "    else:\n",
    "        print('model not found: ', model_path, model_name)\n",
    "    return model\n",
    "    \n",
    "# Load the trained models from disk\n",
    "def load_models(device:torch.device, base_path:str):\n",
    "    # Initialize models\n",
    "    num_classes = 6\n",
    "    cnn_model = load_model_with_weights_if_exists(CNNModel(num_classes,device))\n",
    "    vit_model = load_model_with_weights_if_exists(ViTModel(num_classes,device))\n",
    "    ensemble_model = load_model_with_weights_if_exists(EnsembleModel(num_classes, cnn_model, vit_model, device))\n",
    "    \n",
    "    # Move models to the GPU if available\n",
    "    cnn_model = cnn_model.to(device)\n",
    "    vit_model = vit_model.to(device)\n",
    "    ensemble_model = ensemble_model.to(device)\n",
    "\n",
    "    return cnn_model, vit_model, ensemble_model"
   ]
  },
  {
   "cell_type": "code",
   "execution_count": 14,
   "metadata": {
    "tags": []
   },
   "outputs": [
    {
     "name": "stderr",
     "output_type": "stream",
     "text": [
      "Some weights of ViTForImageClassification were not initialized from the model checkpoint at google/vit-base-patch16-224 and are newly initialized because the shapes did not match:\n",
      "- classifier.bias: found shape torch.Size([1000]) in the checkpoint and torch.Size([5]) in the model instantiated\n",
      "- classifier.weight: found shape torch.Size([1000, 768]) in the checkpoint and torch.Size([5, 768]) in the model instantiated\n",
      "You should probably TRAIN this model on a down-stream task to be able to use it for predictions and inference.\n"
     ]
    },
    {
     "name": "stdout",
     "output_type": "stream",
     "text": [
      "num_epochs=15 total_train=637\n"
     ]
    },
    {
     "name": "stderr",
     "output_type": "stream",
     "text": [
      "100%|█████████▉| 636/637 [11:38<00:01,  1.08s/it]it]/home/ec2-user/anaconda3/envs/pytorch_p310/lib/python3.10/site-packages/torch/autograd/graph.py:744: UserWarning: Plan failed with a cudnnException: CUDNN_BACKEND_EXECUTION_PLAN_DESCRIPTOR: cudnnFinalize Descriptor Failed cudnn_status: CUDNN_STATUS_NOT_SUPPORTED (Triggered internally at ../aten/src/ATen/native/cudnn/Conv_v8.cpp:919.)\n",
      "  return Variable._execution_engine.run_backward(  # Calls into the C++ engine to run the backward pass\n",
      "100%|██████████| 637/637 [11:38<00:00,  1.10s/it]/s]\n",
      "  7%|▋         | 1/15 [11:38<2:42:57, 698.40s/it]"
     ]
    },
    {
     "name": "stdout",
     "output_type": "stream",
     "text": [
      "Epoch [1/15], Training Loss: 0.4613, Training Accuracy: 86.05%\n"
     ]
    },
    {
     "name": "stderr",
     "output_type": "stream",
     "text": [
      "100%|██████████| 637/637 [11:37<00:00,  1.10s/it]t/s]\n",
      " 13%|█▎        | 2/15 [23:16<2:31:15, 698.11s/it]"
     ]
    },
    {
     "name": "stdout",
     "output_type": "stream",
     "text": [
      "Epoch [2/15], Training Loss: 0.3384, Training Accuracy: 89.20%\n"
     ]
    },
    {
     "name": "stderr",
     "output_type": "stream",
     "text": [
      "100%|██████████| 637/637 [11:37<00:00,  1.10s/it]t/s]\n",
      " 20%|██        | 3/15 [34:53<2:19:34, 697.88s/it]"
     ]
    },
    {
     "name": "stdout",
     "output_type": "stream",
     "text": [
      "Epoch [3/15], Training Loss: 0.3051, Training Accuracy: 89.88%\n"
     ]
    },
    {
     "name": "stderr",
     "output_type": "stream",
     "text": [
      "100%|██████████| 637/637 [11:38<00:00,  1.10s/it]t/s]\n",
      " 27%|██▋       | 4/15 [46:32<2:07:58, 698.03s/it]"
     ]
    },
    {
     "name": "stdout",
     "output_type": "stream",
     "text": [
      "Epoch [4/15], Training Loss: 0.2792, Training Accuracy: 90.80%\n"
     ]
    },
    {
     "name": "stderr",
     "output_type": "stream",
     "text": [
      "100%|██████████| 637/637 [11:38<00:00,  1.10s/it]t/s]\n",
      " 33%|███▎      | 5/15 [58:10<1:56:21, 698.15s/it]"
     ]
    },
    {
     "name": "stdout",
     "output_type": "stream",
     "text": [
      "Epoch [5/15], Training Loss: 0.2520, Training Accuracy: 91.56%\n"
     ]
    },
    {
     "name": "stderr",
     "output_type": "stream",
     "text": [
      "100%|██████████| 637/637 [11:38<00:00,  1.10s/it]8it/s]\n",
      " 40%|████      | 6/15 [1:09:49<1:44:45, 698.35s/it]"
     ]
    },
    {
     "name": "stdout",
     "output_type": "stream",
     "text": [
      "Epoch [6/15], Training Loss: 0.2230, Training Accuracy: 92.55%\n"
     ]
    },
    {
     "name": "stderr",
     "output_type": "stream",
     "text": [
      "100%|██████████| 637/637 [11:38<00:00,  1.10s/it]8it/s]\n",
      " 47%|████▋     | 7/15 [1:21:27<1:33:07, 698.38s/it]"
     ]
    },
    {
     "name": "stdout",
     "output_type": "stream",
     "text": [
      "Epoch [7/15], Training Loss: 0.1942, Training Accuracy: 93.55%\n"
     ]
    },
    {
     "name": "stderr",
     "output_type": "stream",
     "text": [
      "100%|██████████| 637/637 [11:38<00:00,  1.10s/it]8it/s]\n",
      " 53%|█████▎    | 8/15 [1:33:06<1:21:29, 698.45s/it]"
     ]
    },
    {
     "name": "stdout",
     "output_type": "stream",
     "text": [
      "Epoch [8/15], Training Loss: 0.1667, Training Accuracy: 94.54%\n"
     ]
    },
    {
     "name": "stderr",
     "output_type": "stream",
     "text": [
      "100%|██████████| 637/637 [11:38<00:00,  1.10s/it]t/s]  \n",
      " 60%|██████    | 9/15 [1:44:44<1:09:50, 698.50s/it]"
     ]
    },
    {
     "name": "stdout",
     "output_type": "stream",
     "text": [
      "Epoch [9/15], Training Loss: 0.1485, Training Accuracy: 95.10%\n"
     ]
    },
    {
     "name": "stderr",
     "output_type": "stream",
     "text": [
      "100%|██████████| 637/637 [11:38<00:00,  1.10s/it]t/s]  \n",
      " 67%|██████▋   | 10/15 [1:56:23<58:13, 698.63s/it] "
     ]
    },
    {
     "name": "stdout",
     "output_type": "stream",
     "text": [
      "Epoch [10/15], Training Loss: 0.1334, Training Accuracy: 95.52%\n"
     ]
    },
    {
     "name": "stderr",
     "output_type": "stream",
     "text": [
      "100%|██████████| 637/637 [11:39<00:00,  1.10s/it]t/s]\n",
      " 73%|███████▎  | 11/15 [2:08:03<46:35, 698.85s/it]"
     ]
    },
    {
     "name": "stdout",
     "output_type": "stream",
     "text": [
      "Epoch [11/15], Training Loss: 0.1217, Training Accuracy: 95.84%\n"
     ]
    },
    {
     "name": "stderr",
     "output_type": "stream",
     "text": [
      "100%|██████████| 637/637 [11:39<00:00,  1.10s/it]t/s]\n",
      " 80%|████████  | 12/15 [2:19:42<34:56, 698.99s/it]"
     ]
    },
    {
     "name": "stdout",
     "output_type": "stream",
     "text": [
      "Epoch [12/15], Training Loss: 0.1125, Training Accuracy: 96.32%\n"
     ]
    },
    {
     "name": "stderr",
     "output_type": "stream",
     "text": [
      "100%|██████████| 637/637 [11:39<00:00,  1.10s/it]t/s]\n",
      " 87%|████████▋ | 13/15 [2:31:21<23:18, 699.09s/it]"
     ]
    },
    {
     "name": "stdout",
     "output_type": "stream",
     "text": [
      "Epoch [13/15], Training Loss: 0.1135, Training Accuracy: 96.31%\n"
     ]
    },
    {
     "name": "stderr",
     "output_type": "stream",
     "text": [
      "100%|██████████| 637/637 [11:39<00:00,  1.10s/it]t/s]\n",
      " 93%|█████████▎| 14/15 [2:43:01<11:39, 699.16s/it]"
     ]
    },
    {
     "name": "stdout",
     "output_type": "stream",
     "text": [
      "Epoch [14/15], Training Loss: 0.1049, Training Accuracy: 96.60%\n"
     ]
    },
    {
     "name": "stderr",
     "output_type": "stream",
     "text": [
      "100%|██████████| 637/637 [11:39<00:00,  1.10s/it]t/s]\n",
      "100%|██████████| 15/15 [2:54:40<00:00, 698.70s/it]\n",
      "100%|██████████| 9555/9555 [2:54:40<00:00,  1.10s/it]"
     ]
    },
    {
     "name": "stdout",
     "output_type": "stream",
     "text": [
      "Epoch [15/15], Training Loss: 0.0955, Training Accuracy: 96.83%\n"
     ]
    },
    {
     "name": "stderr",
     "output_type": "stream",
     "text": [
      "\n"
     ]
    }
   ],
   "source": [
    "# Initialize the models\n",
    "cnn_model = CNNModel(num_classes,device)\n",
    "vit_model = ViTModel(num_classes,device, g_vit_patch)\n",
    "ensemble_model = EnsembleModel(num_classes, cnn_model, vit_model, device)\n",
    "\n",
    "# Move models to the GPU if available\n",
    "vit_model = vit_model.to(device)\n",
    "vit_model = vit_model.to(device)\n",
    "ensemble_model = ensemble_model.to(device)\n",
    "\n",
    "model = ensemble_model\n",
    "\n",
    "eval = train_model(model, train_loader, num_epochs, learning_rate=9e-6)"
   ]
  },
  {
   "cell_type": "code",
   "execution_count": 14,
   "metadata": {
    "tags": []
   },
   "outputs": [
    {
     "data": {
      "image/png": "[encoded data removed]",
      "text/plain": [
       "<Figure size 1200x600 with 2 Axes>"
      ]
     },
     "metadata": {},
     "output_type": "display_data"
    }
   ],
   "source": [
    "# Plot accuracy and loss for each fold\n",
    "eval.plot_graph()"
   ]
  },
  {
   "cell_type": "code",
   "execution_count": 15,
   "metadata": {
    "tags": []
   },
   "outputs": [
    {
     "name": "stdout",
     "output_type": "stream",
     "text": [
      "Models saved successfully!\n"
     ]
    }
   ],
   "source": [
    "# export models\n",
    "trained_model_path = os.path.join(base_output_path, \"model_weights_vit_resnet_v1_clean_13ep\")\n",
    "save_models(trained_model_path, model)"
   ]
  },
  {
   "cell_type": "code",
   "execution_count": 16,
   "metadata": {
    "tags": []
   },
   "outputs": [
    {
     "name": "stderr",
     "output_type": "stream",
     "text": [
      "100%|██████████| 160/160 [01:28<00:00,  1.82it/s]\n"
     ]
    }
   ],
   "source": [
    "y_true, y_pred, y_proba = test_model(model, test_loader)"
   ]
  },
  {
   "cell_type": "markdown",
   "metadata": {},
   "source": [
    "### Evaluation"
   ]
  },
  {
   "cell_type": "code",
   "execution_count": 46,
   "metadata": {
    "tags": []
   },
   "outputs": [],
   "source": [
    "y_true_binary = label_binarize(y_true, classes=np.arange(6))"
   ]
  },
  {
   "cell_type": "code",
   "execution_count": 47,
   "metadata": {
    "tags": []
   },
   "outputs": [
    {
     "data": {
      "text/plain": [
       "False"
      ]
     },
     "execution_count": 47,
     "metadata": {},
     "output_type": "execute_result"
    }
   ],
   "source": [
    "y_true == y_pred"
   ]
  },
  {
   "cell_type": "code",
   "execution_count": 48,
   "metadata": {
    "tags": []
   },
   "outputs": [],
   "source": [
    "# Calculate accuracy\n",
    "accuracy = accuracy_score(y_true, y_pred)\n",
    "\n",
    "# Calculate F1 score (weighted to account for class imbalance)\n",
    "f1 = f1_score(y_true, y_pred, average='weighted')"
   ]
  },
  {
   "cell_type": "code",
   "execution_count": 49,
   "metadata": {
    "tags": []
   },
   "outputs": [
    {
     "data": {
      "image/png": "[encoded data removed]",
      "text/plain": [
       "<Figure size 1000x800 with 1 Axes>"
      ]
     },
     "metadata": {},
     "output_type": "display_data"
    },
    {
     "name": "stdout",
     "output_type": "stream",
     "text": [
      "Average ROC AUC: 0.9983770559702373\n"
     ]
    }
   ],
   "source": [
    "\n",
    "# Calculate ROC curve and AUC for each class using scikit-learn\n",
    "fpr = dict()\n",
    "tpr = dict()\n",
    "roc_auc = dict()\n",
    "for i in range(num_classes):\n",
    "    fpr[i], tpr[i], _ = roc_curve((np.array(y_true) == i).astype(int), y_proba[:, i])\n",
    "    roc_auc[i] = roc_auc_score((np.array(y_true) == i).astype(int), y_proba[:, i])\n",
    "\n",
    "# Compute micro-average ROC curve and ROC AUC\n",
    "fpr[\"micro\"], tpr[\"micro\"], _ = roc_curve(np.eye(num_classes)[np.array(y_true)].ravel(), y_proba.ravel())\n",
    "roc_auc[\"micro\"] = roc_auc_score(np.eye(num_classes)[np.array(y_true)], y_proba, average=\"micro\")\n",
    "\n",
    "# Plot ROC curves\n",
    "plt.figure(figsize=(10, 8))\n",
    "plt.plot([0, 1], [0, 1], linestyle='--', color='grey', label='Random Guess', alpha=0.5)\n",
    "for i in range(num_classes):\n",
    "    plt.plot(fpr[i], tpr[i], label=f'Class {i} (AUC = {roc_auc[i]:.2f})')\n",
    "plt.plot(fpr[\"micro\"], tpr[\"micro\"], label=f'Micro-average (AUC = {roc_auc[\"micro\"]:.2f})', linestyle=':', linewidth=4)\n",
    "plt.xlabel('False Positive Rate')\n",
    "plt.ylabel('True Positive Rate')\n",
    "plt.title('ROC Curve for Multi-Class Classification')\n",
    "plt.legend(loc='lower right')\n",
    "plt.grid(True)\n",
    "plt.show()\n",
    "\n",
    "# Print average ROC AUC\n",
    "print(\"Average ROC AUC:\", roc_auc[\"micro\"])"
   ]
  },
  {
   "cell_type": "code",
   "execution_count": 50,
   "metadata": {
    "tags": []
   },
   "outputs": [
    {
     "name": "stdout",
     "output_type": "stream",
     "text": [
      "Accuracy: 0.9808221331446986\n",
      "F1 Score: 0.9804985935099183\n"
     ]
    },
    {
     "data": {
      "image/png": "[encoded data removed]",
      "text/plain": [
       "<Figure size 1000x800 with 2 Axes>"
      ]
     },
     "metadata": {},
     "output_type": "display_data"
    }
   ],
   "source": [
    "# Print accuracy and F1 score\n",
    "print(\"Accuracy:\", accuracy)\n",
    "print(\"F1 Score:\", f1)\n",
    "\n",
    "# Confusion matrix for additional visualization\n",
    "confusion_mtx = confusion_matrix(y_true, y_pred)\n",
    "plt.figure(figsize=(10, 8))\n",
    "sns.heatmap(confusion_mtx, annot=True, fmt='d', cmap='Blues', xticklabels=test_loader.dataset.dataset.classes, yticklabels=test_loader.dataset.dataset.classes)\n",
    "plt.xlabel(\"Predicted\")\n",
    "plt.ylabel(\"True\")\n",
    "plt.title(\"Confusion Matrix\")\n",
    "plt.show()\n",
    "\n"
   ]
  },
  {
   "cell_type": "code",
   "execution_count": 51,
   "metadata": {
    "tags": []
   },
   "outputs": [
    {
     "data": {
      "text/plain": [
       "0.9808221331446986"
      ]
     },
     "execution_count": 51,
     "metadata": {},
     "output_type": "execute_result"
    }
   ],
   "source": [
    "recall_score(y_pred,y_true, average='weighted')"
   ]
  },
  {
   "cell_type": "code",
   "execution_count": 29,
   "metadata": {
    "tags": []
   },
   "outputs": [
    {
     "name": "stderr",
     "output_type": "stream",
     "text": [
      "Some weights of ViTForImageClassification were not initialized from the model checkpoint at google/vit-base-patch16-224 and are newly initialized because the shapes did not match:\n",
      "- classifier.bias: found shape torch.Size([1000]) in the checkpoint and torch.Size([5]) in the model instantiated\n",
      "- classifier.weight: found shape torch.Size([1000, 768]) in the checkpoint and torch.Size([5, 768]) in the model instantiated\n",
      "You should probably TRAIN this model on a down-stream task to be able to use it for predictions and inference.\n"
     ]
    }
   ],
   "source": [
    "vit_model = ViTModel(num_classes,device)"
   ]
  },
  {
   "cell_type": "code",
   "execution_count": 40,
   "metadata": {
    "tags": []
   },
   "outputs": [],
   "source": [
    "# os.path.exists('./output/ViTModel')\n",
    "weights = torch.load('./output/ViTModel')"
   ]
  },
  {
   "cell_type": "code",
   "execution_count": 44,
   "metadata": {
    "tags": []
   },
   "outputs": [
    {
     "data": {
      "text/plain": [
       "ViTModel(\n",
       "  (model): ViTForImageClassification(\n",
       "    (vit): ViTModel(\n",
       "      (embeddings): ViTEmbeddings(\n",
       "        (patch_embeddings): ViTPatchEmbeddings(\n",
       "          (projection): Conv2d(3, 768, kernel_size=(16, 16), stride=(16, 16))\n",
       "        )\n",
       "        (dropout): Dropout(p=0.0, inplace=False)\n",
       "      )\n",
       "      (encoder): ViTEncoder(\n",
       "        (layer): ModuleList(\n",
       "          (0-11): 12 x ViTLayer(\n",
       "            (attention): ViTAttention(\n",
       "              (attention): ViTSelfAttention(\n",
       "                (query): Linear(in_features=768, out_features=768, bias=True)\n",
       "                (key): Linear(in_features=768, out_features=768, bias=True)\n",
       "                (value): Linear(in_features=768, out_features=768, bias=True)\n",
       "                (dropout): Dropout(p=0.0, inplace=False)\n",
       "              )\n",
       "              (output): ViTSelfOutput(\n",
       "                (dense): Linear(in_features=768, out_features=768, bias=True)\n",
       "                (dropout): Dropout(p=0.0, inplace=False)\n",
       "              )\n",
       "            )\n",
       "            (intermediate): ViTIntermediate(\n",
       "              (dense): Linear(in_features=768, out_features=3072, bias=True)\n",
       "              (intermediate_act_fn): GELUActivation()\n",
       "            )\n",
       "            (output): ViTOutput(\n",
       "              (dense): Linear(in_features=3072, out_features=768, bias=True)\n",
       "              (dropout): Dropout(p=0.0, inplace=False)\n",
       "            )\n",
       "            (layernorm_before): LayerNorm((768,), eps=1e-12, elementwise_affine=True)\n",
       "            (layernorm_after): LayerNorm((768,), eps=1e-12, elementwise_affine=True)\n",
       "          )\n",
       "        )\n",
       "      )\n",
       "      (layernorm): LayerNorm((768,), eps=1e-12, elementwise_affine=True)\n",
       "    )\n",
       "    (classifier): Linear(in_features=768, out_features=5, bias=True)\n",
       "  )\n",
       ")"
      ]
     },
     "execution_count": 44,
     "metadata": {},
     "output_type": "execute_result"
    }
   ],
   "source": [
    "vit_model.load_state_dict(weights)\n",
    "vit_model.to(device)"
   ]
  },
  {
   "cell_type": "code",
   "execution_count": 45,
   "metadata": {
    "tags": []
   },
   "outputs": [
    {
     "name": "stderr",
     "output_type": "stream",
     "text": [
      "100%|██████████| 160/160 [01:13<00:00,  2.18it/s]\n"
     ]
    }
   ],
   "source": [
    "y_true, y_pred, y_proba = test_model(vit_model, test_loader)"
   ]
  },
  {
   "cell_type": "code",
   "execution_count": 52,
   "metadata": {
    "tags": []
   },
   "outputs": [
    {
     "data": {
      "text/plain": [
       "0.9808221331446986"
      ]
     },
     "execution_count": 52,
     "metadata": {},
     "output_type": "execute_result"
    }
   ],
   "source": [
    "recall_score(y_pred,y_true, average='weighted')"
   ]
  },
  {
   "cell_type": "code",
   "execution_count": 53,
   "metadata": {
    "tags": []
   },
   "outputs": [
    {
     "data": {
      "text/plain": [
       "0.981697478310762"
      ]
     },
     "execution_count": 53,
     "metadata": {},
     "output_type": "execute_result"
    }
   ],
   "source": [
    "precision_score(y_pred,y_true, average='weighted')"
   ]
  }
 ],
 "metadata": {
  "kaggle": {
   "accelerator": "nvidiaTeslaT4",
   "dataSources": [
    {
     "datasetId": 5005588,
     "sourceId": 8410525,
     "sourceType": "datasetVersion"
    }
   ],
   "dockerImageVersionId": 30699,
   "isGpuEnabled": true,
   "isInternetEnabled": true,
   "language": "python",
   "sourceType": "notebook"
  },
  "kernelspec": {
   "display_name": "conda_pytorch_p310",
   "language": "python",
   "name": "conda_pytorch_p310"
  },
  "language_info": {
   "codemirror_mode": {
    "name": "ipython",
    "version": 3
   },
   "file_extension": ".py",
   "mimetype": "text/x-python",
   "name": "python",
   "nbconvert_exporter": "python",
   "pygments_lexer": "ipython3",
   "version": "3.10.14"
  }
 },
 "nbformat": 4,
 "nbformat_minor": 4
}
